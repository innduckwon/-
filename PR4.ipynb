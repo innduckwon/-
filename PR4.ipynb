{
 "cells": [
  {
   "cell_type": "code",
   "execution_count": 1,
   "id": "bb0c7140",
   "metadata": {},
   "outputs": [
    {
     "name": "stdout",
     "output_type": "stream",
     "text": [
      "pass\n",
      "pass\n",
      "pass\n",
      "faile\n",
      "pass\n"
     ]
    }
   ],
   "source": [
    "score=[65, 80, 75, 55, 90]\n",
    "n=0\n",
    "for i in score:\n",
    "    if i>=60:\n",
    "       print(\"pass\")\n",
    "    else:\n",
    "       print(\"faile\")\n",
    "    n=n+1"
   ]
  },
  {
   "cell_type": "code",
   "execution_count": 2,
   "id": "d6d9dbad",
   "metadata": {},
   "outputs": [
    {
     "name": "stdout",
     "output_type": "stream",
     "text": [
      "[1, 0, 1, 0, 1, 1, 1, 0, 0, 0, 1, 0]\n"
     ]
    }
   ],
   "source": [
    "a=[\"Cat\", \"Dog\", \"cat\", \"dog\", \"cat\", \"cat\", \"Cat\", \"Dog\", \"dog\", \"Dog\", \"cat\", \"Dog\"]\n",
    "s={\"cat\":1, \"dog\":0, \"Cat\":1, \"Dog\":0}\n",
    "new_a=[s[key] for key in a]\n",
    "print (new_a)"
   ]
  },
  {
   "cell_type": "code",
   "execution_count": 3,
   "id": "1b488ad1",
   "metadata": {},
   "outputs": [
    {
     "name": "stdout",
     "output_type": "stream",
     "text": [
      "[1, 2, 3]\n",
      "1 2 3\n"
     ]
    }
   ],
   "source": [
    "#패킹과 언패킹\n",
    "\n",
    "t=[1,2,3]\n",
    "a,b,c=t\n",
    "print(t)\n",
    "print(a,b,c)"
   ]
  },
  {
   "cell_type": "code",
   "execution_count": 5,
   "id": "f335194e",
   "metadata": {},
   "outputs": [
    {
     "name": "stdout",
     "output_type": "stream",
     "text": [
      "600\n",
      "200\n"
     ]
    }
   ],
   "source": [
    "def cal_rec(x,y):\n",
    "    z=x*y\n",
    "    return z\n",
    "\n",
    "print (cal_rec(20,30))\n",
    "\n",
    "a=10\n",
    "b=20\n",
    "k=cal_rec(a,b)\n",
    "print(k)\n"
   ]
  },
  {
   "cell_type": "code",
   "execution_count": 7,
   "id": "f1436be7",
   "metadata": {},
   "outputs": [
    {
     "name": "stdout",
     "output_type": "stream",
     "text": [
      "300\n"
     ]
    }
   ],
   "source": [
    "def cal_rec2(x,y): #매개변수는 x와 y\n",
    "    print(x*y)\n",
    "    \n",
    "cal_rec2(30,10)"
   ]
  },
  {
   "cell_type": "code",
   "execution_count": 8,
   "id": "b04fd42d",
   "metadata": {},
   "outputs": [
    {
     "name": "stdout",
     "output_type": "stream",
     "text": [
      "300\n"
     ]
    },
    {
     "ename": "NameError",
     "evalue": "name 'x' is not defined",
     "output_type": "error",
     "traceback": [
      "\u001b[1;31m---------------------------------------------------------------------------\u001b[0m",
      "\u001b[1;31mNameError\u001b[0m                                 Traceback (most recent call last)",
      "\u001b[1;32m~\\AppData\\Local\\Temp/ipykernel_16400/2872767251.py\u001b[0m in \u001b[0;36m<module>\u001b[1;34m\u001b[0m\n\u001b[0;32m      3\u001b[0m \u001b[1;33m\u001b[0m\u001b[0m\n\u001b[0;32m      4\u001b[0m \u001b[0mcal_rec2\u001b[0m\u001b[1;33m(\u001b[0m\u001b[1;36m30\u001b[0m\u001b[1;33m,\u001b[0m\u001b[1;36m10\u001b[0m\u001b[1;33m)\u001b[0m\u001b[1;33m\u001b[0m\u001b[1;33m\u001b[0m\u001b[0m\n\u001b[1;32m----> 5\u001b[1;33m \u001b[0mprint\u001b[0m\u001b[1;33m(\u001b[0m\u001b[0mx\u001b[0m\u001b[1;33m)\u001b[0m\u001b[1;33m\u001b[0m\u001b[1;33m\u001b[0m\u001b[0m\n\u001b[0m",
      "\u001b[1;31mNameError\u001b[0m: name 'x' is not defined"
     ]
    }
   ],
   "source": [
    "#변수의 범위\n",
    "\n",
    "def cal_rec2(x,y):\n",
    "    print(x*y)\n",
    "    \n",
    "cal_rec2(30,10)\n",
    "print(x)\n",
    "#x는 지역변수. cal_rec2 안에서만 사용됨. "
   ]
  },
  {
   "cell_type": "code",
   "execution_count": 9,
   "id": "8d663a18",
   "metadata": {},
   "outputs": [
    {
     "name": "stdout",
     "output_type": "stream",
     "text": [
      "inside 30\n",
      "300\n",
      "50\n"
     ]
    }
   ],
   "source": [
    "#변수의 범위\n",
    "\n",
    "def cal_rec2(x,y):\n",
    "    print(\"inside\",x) #car_rec2 에 있는 지역변수x와 바깥에 있는 전역변수 x는 다르게 정의됨.\n",
    "    print(x*y)\n",
    "    \n",
    "x=50 #전역변수\n",
    "cal_rec2(30,10)\n",
    "print(x)"
   ]
  },
  {
   "cell_type": "code",
   "execution_count": 10,
   "id": "8c98ff68",
   "metadata": {},
   "outputs": [
    {
     "name": "stdout",
     "output_type": "stream",
     "text": [
      "inside 10\n",
      "200\n",
      "50\n"
     ]
    }
   ],
   "source": [
    "def cal_rec2(x,y):\n",
    "    print(\"inside\",x) \n",
    "    print(x*y)\n",
    "    \n",
    "x=50 \n",
    "a=10\n",
    "b=20\n",
    "cal_rec2(a,b)\n",
    "print(x)"
   ]
  },
  {
   "cell_type": "code",
   "execution_count": 12,
   "id": "de3ae5e7",
   "metadata": {},
   "outputs": [
    {
     "name": "stdout",
     "output_type": "stream",
     "text": [
      "[0, 2, 1]\n",
      "[2, 3]\n",
      "[0, 2, 1]\n"
     ]
    }
   ],
   "source": [
    "def spam(X1):\n",
    "    X1.append(1)\n",
    "    print(X1)\n",
    "    X1=[2,3]\n",
    "    print(X1)\n",
    "    \n",
    "Y1=[0,2]\n",
    "spam(Y1)\n",
    "print(Y1)"
   ]
  },
  {
   "cell_type": "code",
   "execution_count": null,
   "id": "06f85331",
   "metadata": {},
   "outputs": [],
   "source": []
  }
 ],
 "metadata": {
  "kernelspec": {
   "display_name": "Python 3 (ipykernel)",
   "language": "python",
   "name": "python3"
  },
  "language_info": {
   "codemirror_mode": {
    "name": "ipython",
    "version": 3
   },
   "file_extension": ".py",
   "mimetype": "text/x-python",
   "name": "python",
   "nbconvert_exporter": "python",
   "pygments_lexer": "ipython3",
   "version": "3.9.7"
  }
 },
 "nbformat": 4,
 "nbformat_minor": 5
}
